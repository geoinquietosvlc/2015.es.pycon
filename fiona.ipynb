{
 "cells": [
  {
   "cell_type": "code",
   "execution_count": 15,
   "metadata": {
    "collapsed": true
   },
   "outputs": [],
   "source": [
    "import fiona\n",
    "from fiona.collection import Collection, supported_drivers"
   ]
  },
  {
   "cell_type": "code",
   "execution_count": 13,
   "metadata": {
    "collapsed": false
   },
   "outputs": [
    {
     "data": {
      "text/plain": [
       "{'ARCGEN': 'r',\n",
       " 'AeronavFAA': 'r',\n",
       " 'BNA': 'raw',\n",
       " 'DGN': 'raw',\n",
       " 'DXF': 'raw',\n",
       " 'ESRI Shapefile': 'raw',\n",
       " 'FileGDB': 'raw',\n",
       " 'GMT': 'raw',\n",
       " 'GPKG': 'rw',\n",
       " 'GPSTrackMaker': 'raw',\n",
       " 'GPX': 'raw',\n",
       " 'GeoJSON': 'rw',\n",
       " 'Idrisi': 'r',\n",
       " 'MapInfo File': 'raw',\n",
       " 'OpenFileGDB': 'r',\n",
       " 'PCIDSK': 'r',\n",
       " 'PDS': 'r',\n",
       " 'SEGY': 'r',\n",
       " 'SUA': 'r'}"
      ]
     },
     "execution_count": 13,
     "metadata": {},
     "output_type": "execute_result"
    }
   ],
   "source": [
    "supported_drivers"
   ]
  },
  {
   "cell_type": "markdown",
   "metadata": {},
   "source": [
    "# Reading vector formats"
   ]
  },
  {
   "cell_type": "markdown",
   "metadata": {},
   "source": [
    "- Reading a file\n",
    "- Getting information of the resource (bbox, CRS)?\n",
    "- Looping ofver features, features API"
   ]
  },
  {
   "cell_type": "markdown",
   "metadata": {},
   "source": [
    "# Writing a shapefile from a CSV"
   ]
  },
  {
   "cell_type": "markdown",
   "metadata": {},
   "source": [
    "- reading a CSV from CartoDB SQL API (quering [this table](https://team.cartodb.com/u/jsanz/tables/twitter_pycones_pycones2015_pycones15/public) using requests)\n",
    "- creating a schema\n",
    "- creating features and writing them"
   ]
  },
  {
   "cell_type": "markdown",
   "metadata": {},
   "source": [
    "# Filtering and other operations"
   ]
  },
  {
   "cell_type": "markdown",
   "metadata": {},
   "source": []
  },
  {
   "cell_type": "code",
   "execution_count": null,
   "metadata": {
    "collapsed": true
   },
   "outputs": [],
   "source": []
  }
 ],
 "metadata": {
  "kernelspec": {
   "display_name": "Python 2",
   "language": "python",
   "name": "python2"
  },
  "language_info": {
   "codemirror_mode": {
    "name": "ipython",
    "version": 2
   },
   "file_extension": ".py",
   "mimetype": "text/x-python",
   "name": "python",
   "nbconvert_exporter": "python",
   "pygments_lexer": "ipython2",
   "version": "2.7.10"
  }
 },
 "nbformat": 4,
 "nbformat_minor": 0
}
