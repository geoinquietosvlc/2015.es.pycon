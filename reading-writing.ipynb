{
 "cells": [
  {
   "cell_type": "markdown",
   "metadata": {},
   "source": [
    "# Writing and reading data"
   ]
  },
  {
   "cell_type": "code",
   "execution_count": 1,
   "metadata": {
    "collapsed": false
   },
   "outputs": [],
   "source": [
    "import fiona\n",
    "from fiona.collection import Collection, supported_drivers"
   ]
  },
  {
   "cell_type": "code",
   "execution_count": 2,
   "metadata": {
    "collapsed": false
   },
   "outputs": [
    {
     "data": {
      "text/plain": [
       "{'ARCGEN': 'r',\n",
       " 'AeronavFAA': 'r',\n",
       " 'BNA': 'raw',\n",
       " 'DGN': 'raw',\n",
       " 'DXF': 'raw',\n",
       " 'ESRI Shapefile': 'raw',\n",
       " 'FileGDB': 'raw',\n",
       " 'GMT': 'raw',\n",
       " 'GPKG': 'rw',\n",
       " 'GPSTrackMaker': 'raw',\n",
       " 'GPX': 'raw',\n",
       " 'GeoJSON': 'rw',\n",
       " 'Idrisi': 'r',\n",
       " 'MapInfo File': 'raw',\n",
       " 'OpenFileGDB': 'r',\n",
       " 'PCIDSK': 'r',\n",
       " 'PDS': 'r',\n",
       " 'SEGY': 'r',\n",
       " 'SUA': 'r'}"
      ]
     },
     "execution_count": 2,
     "metadata": {},
     "output_type": "execute_result"
    }
   ],
   "source": [
    "supported_drivers"
   ]
  },
  {
   "cell_type": "markdown",
   "metadata": {},
   "source": [
    "## Writing a shapefile from a CSV"
   ]
  },
  {
   "cell_type": "markdown",
   "metadata": {},
   "source": [
    "- reading a CSV from CartoDB SQL API (quering [this table](https://team.cartodb.com/u/jsanz/tables/twitter_pycones_pycones2015_pycones15/public) using requests)\n",
    "- creating a schema\n",
    "- creating features and writing them"
   ]
  },
  {
   "cell_type": "code",
   "execution_count": 3,
   "metadata": {
    "collapsed": true
   },
   "outputs": [],
   "source": [
    "import requests"
   ]
  },
  {
   "cell_type": "code",
   "execution_count": 4,
   "metadata": {
    "collapsed": false
   },
   "outputs": [],
   "source": [
    "url = 'https://jsanz.cartodb.com:443/api/v2/sql?q=select ST_X(the_geom) as lon, ST_Y(the_geom) as lat, cartodb_id, actor_preferredusername, body, postedtime from jsanz.twitter_pycones_pycones2015_pycones15&format=csv'\n",
    "csv_file = '/tmp/tweets.csv'\n",
    "\n",
    "req = requests.get(url)\n",
    "\n",
    "with open(csv_file,'w') as csvfile:\n",
    "    csvfile.write(req.text.encode('utf8','replace'))"
   ]
  },
  {
   "cell_type": "code",
   "execution_count": 5,
   "metadata": {
    "collapsed": true
   },
   "outputs": [],
   "source": [
    "from fiona.crs import from_epsg"
   ]
  },
  {
   "cell_type": "code",
   "execution_count": 6,
   "metadata": {
    "collapsed": false
   },
   "outputs": [],
   "source": [
    "target = '/tmp/tweets.shp'\n",
    "epsg = 4258\n",
    "\n",
    "schema = {\n",
    "        \"geometry\": \"Point\",\n",
    "        \"properties\": {\n",
    "            (\"cartodb_id\", \"int\"),\n",
    "            (\"lon\",\"float\"),\n",
    "            (\"lat\",\"float\"),\n",
    "            (\"author\",\"str\"),\n",
    "            (\"body\",\"str\"),\n",
    "            (\"postedtime\",\"str\")\n",
    "        }\n",
    "}\n"
   ]
  },
  {
   "cell_type": "code",
   "execution_count": 8,
   "metadata": {
    "collapsed": true
   },
   "outputs": [],
   "source": [
    "import csv"
   ]
  },
  {
   "cell_type": "code",
   "execution_count": 9,
   "metadata": {
    "collapsed": false
   },
   "outputs": [],
   "source": [
    "#['lon,lat,cartodb_id,actor_preferredusername,body,postedtime',\n",
    "# '-3.69063,40.42526,187,rmajadas,@PyConES listo!,2015-11-01 08:46:04+00']\n",
    "driver = \"ESRI Shapefile\"\n",
    "crs = from_epsg(epsg)\n",
    "output = fiona.open(target, \"w\", driver=driver, crs=crs, schema=schema)\n",
    "with open(csv_file,'r') as csvfile:\n",
    "    csvreader = csv.reader(csvfile,delimiter=',',quotechar='\"')\n",
    "    next(csvreader)\n",
    "    for line in csvreader:\n",
    "            x = float(line[0])\n",
    "            y = float(line[1])\n",
    "            \n",
    "            feature = {\n",
    "                    \"geometry\" : {\n",
    "                            \"coordinates\" : (x, y),\n",
    "                            \"type\" : \"Point\"\n",
    "                    },\n",
    "                    \"properties\" : {\n",
    "                            \"cartodb_id\" : int(line[2]),\n",
    "                            \"lon\" : x,\n",
    "                            \"lat\" : y,\n",
    "                            \"author\" : line[3],\n",
    "                            \"body\" : line[4].decode('latin1','replace'),\n",
    "                            \"postedtime\" : line[5]\n",
    "                    }\n",
    "            }\n",
    "            output.write(feature)\n",
    "\n",
    "    output.close()"
   ]
  },
  {
   "cell_type": "markdown",
   "metadata": {},
   "source": [
    "## Reading and exploring data"
   ]
  },
  {
   "cell_type": "markdown",
   "metadata": {},
   "source": [
    "- Reading a file\n",
    "- Getting information of the resource (bbox, CRS)?\n",
    "- Looping ofver features, features API"
   ]
  },
  {
   "cell_type": "code",
   "execution_count": 10,
   "metadata": {
    "collapsed": false
   },
   "outputs": [],
   "source": [
    "source = fiona.open(target, 'r')"
   ]
  },
  {
   "cell_type": "code",
   "execution_count": 11,
   "metadata": {
    "collapsed": false
   },
   "outputs": [
    {
     "name": "stdout",
     "output_type": "stream",
     "text": [
      "bounds: (-95.36327, -43.24895, 121.0, 53.33306)\n"
     ]
    }
   ],
   "source": [
    "print \"bounds: {}\".format(source.bounds)"
   ]
  },
  {
   "cell_type": "code",
   "execution_count": 12,
   "metadata": {
    "collapsed": false
   },
   "outputs": [
    {
     "name": "stdout",
     "output_type": "stream",
     "text": [
      "CRS: {u'no_defs': True, u'ellps': u'GRS80', u'proj': u'longlat'}\n"
     ]
    }
   ],
   "source": [
    "print \"CRS: {}\".format(source.crs)"
   ]
  },
  {
   "cell_type": "code",
   "execution_count": 13,
   "metadata": {
    "collapsed": false
   },
   "outputs": [
    {
     "name": "stdout",
     "output_type": "stream",
     "text": [
      "187 - (-3.69063, 40.42526)\n",
      " 39 - (2.15899, 41.38879)\n",
      "249 - (-3.60667, 37.18817)\n",
      "247 - (-16.25462, 28.46824)\n",
      "105 - (-0.12574, 51.50853)\n",
      "206 - (-3.69063, 40.42526)\n",
      "192 - (-3.69063, 40.42526)\n",
      "  9 - (-4.52406, 42.00955)\n",
      " 35 - (2.15899, 41.38879)\n",
      " 99 - (-0.12574, 51.50853)\n"
     ]
    }
   ],
   "source": [
    "for f in source[:10]:\n",
    "    print \"{:3} - {}\".format(f['properties']['cartodb_id'], f['geometry']['coordinates'])"
   ]
  }
 ],
 "metadata": {
  "kernelspec": {
   "display_name": "Python 2",
   "language": "python",
   "name": "python2"
  },
  "language_info": {
   "codemirror_mode": {
    "name": "ipython",
    "version": 2
   },
   "file_extension": ".py",
   "mimetype": "text/x-python",
   "name": "python",
   "nbconvert_exporter": "python",
   "pygments_lexer": "ipython2",
   "version": "2.7.10"
  }
 },
 "nbformat": 4,
 "nbformat_minor": 0
}
