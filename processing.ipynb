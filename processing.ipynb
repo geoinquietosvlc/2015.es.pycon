{
 "cells": [
  {
   "cell_type": "markdown",
   "metadata": {},
   "source": [
    "# The problem\n",
    "\n",
    "1. Create a point at `-0.346713,39.482767` (4258 using pyproj)\n",
    "2. Transform the coordinates into 25830\n",
    "3. Create a buffer of 30km around the ponit\n",
    "4. Intersect tweets with the buffer\n",
    "5. Calculate the distance between every tweet and the central point and order them\n",
    "\n",
    "(consider not using CRSs and use the Vicenty formula)"
   ]
  },
  {
   "cell_type": "markdown",
   "metadata": {},
   "source": [
    "# Links\n",
    "\n"
   ]
  },
  {
   "cell_type": "code",
   "execution_count": null,
   "metadata": {
    "collapsed": true
   },
   "outputs": [],
   "source": []
  }
 ],
 "metadata": {
  "kernelspec": {
   "display_name": "Python 2",
   "language": "python",
   "name": "python2"
  },
  "language_info": {
   "codemirror_mode": {
    "name": "ipython",
    "version": 2
   },
   "file_extension": ".py",
   "mimetype": "text/x-python",
   "name": "python",
   "nbconvert_exporter": "python",
   "pygments_lexer": "ipython2",
   "version": "2.7.10"
  }
 },
 "nbformat": 4,
 "nbformat_minor": 0
}
